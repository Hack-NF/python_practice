{
  "nbformat": 4,
  "nbformat_minor": 0,
  "metadata": {
    "colab": {
      "provenance": [],
      "authorship_tag": "ABX9TyP4JF5u5dLf6Yij1nZTGmmd",
      "include_colab_link": true
    },
    "kernelspec": {
      "name": "python3",
      "display_name": "Python 3"
    },
    "language_info": {
      "name": "python"
    }
  },
  "cells": [
    {
      "cell_type": "markdown",
      "metadata": {
        "id": "view-in-github",
        "colab_type": "text"
      },
      "source": [
        "<a href=\"https://colab.research.google.com/github/Hack-NF/python_practice/blob/main/Untitled5.ipynb\" target=\"_parent\"><img src=\"https://colab.research.google.com/assets/colab-badge.svg\" alt=\"Open In Colab\"/></a>"
      ]
    },
    {
      "cell_type": "code",
      "source": [
        "# Markdown cell content\n",
        "\"\"\"\n",
        "## Titanic Survival Prediction Assignment\n",
        "\n",
        "Welcome to the Titanic Survival Prediction assignment! In this notebook, you will go through the entire machine learning process to build a model that predicts whether a passenger survived the Titanic disaster.\n",
        "\n",
        "### The Dataset\n",
        "\n",
        "The dataset used in this assignment contains information about the passengers of the Titanic. It includes various features such as:\n",
        "\n",
        "- **PassengerId**: A unique identifier for each passenger.\n",
        "- **Survived**: The target variable (0 = No, 1 = Yes).\n",
        "- **Pclass**: Passenger class (1st, 2nd, or 3rd).\n",
        "- **Name**: Passenger's name.\n",
        "- **Sex**: Passenger's gender.\n",
        "- **Age**: Passenger's age.\n",
        "- **SibSp**: Number of siblings/spouses aboard.\n",
        "- **Parch**: Number of parents/children aboard.\n",
        "- **Ticket**: Ticket number.\n",
        "- **Fare**: Fare paid for the ticket.\n",
        "- **Cabin**: Cabin number.\n",
        "- **Embarked**: Port of embarkation (C = Cherbourg, Q = Queenstown, S = Southampton).\n",
        "\n",
        "### Objective\n",
        "\n",
        "The main objective of this assignment is to build a machine learning model, specifically a Logistic Regression model in this case, that can accurately predict the survival outcome of a passenger based on the provided features. You will clean and preprocess the data, train the model, evaluate its performance, and make predictions.\n",
        "\"\"\""
      ],
      "metadata": {
        "colab": {
          "base_uri": "https://localhost:8080/",
          "height": 139
        },
        "id": "eteRX-GG0h97",
        "outputId": "b49728dd-68f1-48e9-bad4-e56530bc9b59"
      },
      "execution_count": 22,
      "outputs": [
        {
          "output_type": "execute_result",
          "data": {
            "text/plain": [
              "\"\\n## Titanic Survival Prediction Assignment\\n\\nWelcome to the Titanic Survival Prediction assignment! In this notebook, you will go through the entire machine learning process to build a model that predicts whether a passenger survived the Titanic disaster.\\n\\n### The Dataset\\n\\nThe dataset used in this assignment contains information about the passengers of the Titanic. It includes various features such as:\\n\\n- **PassengerId**: A unique identifier for each passenger.\\n- **Survived**: The target variable (0 = No, 1 = Yes).\\n- **Pclass**: Passenger class (1st, 2nd, or 3rd).\\n- **Name**: Passenger's name.\\n- **Sex**: Passenger's gender.\\n- **Age**: Passenger's age.\\n- **SibSp**: Number of siblings/spouses aboard.\\n- **Parch**: Number of parents/children aboard.\\n- **Ticket**: Ticket number.\\n- **Fare**: Fare paid for the ticket.\\n- **Cabin**: Cabin number.\\n- **Embarked**: Port of embarkation (C = Cherbourg, Q = Queenstown, S = Southampton).\\n\\n### Objective\\n\\nThe main objective of this assignment is to build a machine learning model, specifically a Logistic Regression model in this case, that can accurately predict the survival outcome of a passenger based on the provided features. You will clean and preprocess the data, train the model, evaluate its performance, and make predictions.\\n\""
            ],
            "application/vnd.google.colaboratory.intrinsic+json": {
              "type": "string"
            }
          },
          "metadata": {},
          "execution_count": 22
        }
      ]
    },
    {
      "cell_type": "code",
      "source": [
        "# Markdown cell content for Data Loading and Exploration\n",
        "\n",
        "\"\"\"\n",
        "## Data Loading and Exploration\n",
        "\n",
        "In this section, you will load the Titanic dataset and perform initial explorations to understand its structure, content, and basic statistics.\n",
        "\n",
        "**Instructions:**\n",
        "\n",
        "1.  Load the Titanic dataset into a pandas DataFrame from the following URL:\n",
        "    `https://raw.githubusercontent.com/datasciencedojo/datasets/master/titanic.csv`\n",
        "2.  Display the first 5 rows of the DataFrame to get an initial look at the data and columns.\n",
        "3.  Check for missing values in each column and display the count of missing values.\n",
        "4.  Display the data types of each column to understand how pandas interpreted the data.\n",
        "5.  Generate descriptive statistics for the numerical columns in the dataset (e.g., mean, median, standard deviation, min, max).\n",
        "6.  Explore the distribution of the 'Survived' column using a count plot to see the number of passengers who survived and did not survive.\n",
        "7.  Explore the relationship between 'Survived' and 'Pclass' using a bar plot to see how passenger class relates to survival rate.\n",
        "8.  Explore the relationship between 'Survived' and 'Sex' using a bar plot to see the survival rate for males and females.\n",
        "9.  Explore the distribution of the 'Age' column using a histogram or a distribution plot to understand the age distribution of passengers.\n",
        "10. Explore the distribution of the 'Fare' column using a histogram or a distribution plot to understand the fare distribution.\n",
        "11. Explore the distribution of the 'SibSp' column using a count plot or histogram to see the number of siblings/spouses aboard.\n",
        "12. Explore the distribution of the 'Parch' column using a count plot or histogram to see the number of parents/children aboard.\n",
        "\"\"\""
      ],
      "metadata": {
        "id": "41gjQCqM2Oau"
      },
      "execution_count": null,
      "outputs": []
    },
    {
      "cell_type": "code",
      "execution_count": 1,
      "metadata": {
        "id": "VfWDuGvlvf8R"
      },
      "outputs": [],
      "source": [
        "# Step 1: Import libraries\n",
        "import pandas as pd\n",
        "import numpy as np\n",
        "import seaborn as sns\n",
        "import matplotlib.pyplot as plt\n",
        "from sklearn.model_selection import train_test_split\n",
        "from sklearn.linear_model import LogisticRegression\n",
        "from sklearn.metrics import accuracy_score, confusion_matrix, classification_report"
      ]
    },
    {
      "cell_type": "code",
      "source": [
        "# Step 2: Load Titanic dataset\n",
        "# You can download from: https://raw.githubusercontent.com/datasciencedojo/datasets/master/titanic.csv\n",
        "url = \"https://raw.githubusercontent.com/datasciencedojo/datasets/master/titanic.csv\"\n",
        "data = pd.read_csv(url)\n",
        "\n",
        "print(\"First 5 rows of dataset:\")\n",
        "print(data.head())"
      ],
      "metadata": {
        "colab": {
          "base_uri": "https://localhost:8080/"
        },
        "id": "kz9Hdh-0vsJf",
        "outputId": "e26b9312-a457-4fff-de2f-5b64194b9712"
      },
      "execution_count": 2,
      "outputs": [
        {
          "output_type": "stream",
          "name": "stdout",
          "text": [
            "First 5 rows of dataset:\n",
            "   PassengerId  Survived  Pclass  \\\n",
            "0            1         0       3   \n",
            "1            2         1       1   \n",
            "2            3         1       3   \n",
            "3            4         1       1   \n",
            "4            5         0       3   \n",
            "\n",
            "                                                Name     Sex   Age  SibSp  \\\n",
            "0                            Braund, Mr. Owen Harris    male  22.0      1   \n",
            "1  Cumings, Mrs. John Bradley (Florence Briggs Th...  female  38.0      1   \n",
            "2                             Heikkinen, Miss. Laina  female  26.0      0   \n",
            "3       Futrelle, Mrs. Jacques Heath (Lily May Peel)  female  35.0      1   \n",
            "4                           Allen, Mr. William Henry    male  35.0      0   \n",
            "\n",
            "   Parch            Ticket     Fare Cabin Embarked  \n",
            "0      0         A/5 21171   7.2500   NaN        S  \n",
            "1      0          PC 17599  71.2833   C85        C  \n",
            "2      0  STON/O2. 3101282   7.9250   NaN        S  \n",
            "3      0            113803  53.1000  C123        S  \n",
            "4      0            373450   8.0500   NaN        S  \n"
          ]
        }
      ]
    },
    {
      "cell_type": "code",
      "source": [
        "# Markdown cell content for Data Cleaning and Preprocessing\n",
        "\n",
        "\"\"\"\n",
        "## Data Cleaning and Preprocessing\n",
        "\n",
        "This section focuses on cleaning and preparing the data for model training. You will handle missing values, convert categorical features into numerical format, and consider feature scaling.\n",
        "\n",
        "**Instructions:**\n",
        "\n",
        "1.  Handle missing values in the 'Age' column. Explain your chosen method (e.g., filling with the median) and why it's appropriate.\n",
        "2.  Handle missing values in the 'Embarked' column. Explain your chosen method (e.g., filling with the mode) and why it's appropriate.\n",
        "3.  Convert the 'Sex' column into a numerical representation (e.g., using mapping where male=0 and female=1).\n",
        "4.  Convert the 'Embarked' column into a numerical representation. Consider using one-hot encoding for this feature.\n",
        "5.  Consider if any numerical features ('Age', 'Fare', 'SibSp', 'Parch', 'Pclass') require scaling before model training. If so, apply an appropriate scaling technique (e.g., StandardScaler) to these features. Justify your decision.\n",
        "6.  **Question:** Explain the rationale behind your choices for handling missing values in 'Age' and 'Embarked'.\n",
        "7.  **Question:** Justify your choice of encoding method for the 'Sex' and 'Embarked' columns.\n",
        "8.  **Question:** Explain why you decided to scale (or not scale) the numerical features.\n",
        "9.  Display the first few rows of the DataFrame after completing all cleaning and preprocessing steps. Also, display the data types of the columns to confirm the changes.\n",
        "10. **Question:** Verify that there are no remaining missing values in the DataFrame. Show the code you used to check for missing values.\n",
        "11. **Question:** Based on your understanding and previous exploration, are there any original columns (like 'PassengerId', 'Name', 'Ticket', 'Cabin') that are not necessary for the prediction task and should be dropped? If so, which ones and why? (Note: Some of these might have been dropped in a previous step, acknowledge if that's the case).\n",
        "12. **Question:** Briefly summarize the key data cleaning and preprocessing steps you performed in this section.\n",
        "\n",
        "\"\"\""
      ],
      "metadata": {
        "id": "YOFa88NL2Taw"
      },
      "execution_count": null,
      "outputs": []
    },
    {
      "cell_type": "code",
      "source": [
        "# Step 3: Data Cleaning\n",
        "# Drop useless columns\n",
        "data = data.drop(['PassengerId','Name','Ticket','Cabin'], axis=1)"
      ],
      "metadata": {
        "id": "jVp0sD_1wD5w"
      },
      "execution_count": 3,
      "outputs": []
    },
    {
      "cell_type": "code",
      "source": [
        "# Fill missing Age with median\n",
        "data['Age'].fillna(data['Age'].median(), inplace=True)"
      ],
      "metadata": {
        "colab": {
          "base_uri": "https://localhost:8080/"
        },
        "collapsed": true,
        "id": "F-kn_GjkwsSP",
        "outputId": "79c20a14-5b30-43be-84d5-f65187c5cdf6"
      },
      "execution_count": 4,
      "outputs": [
        {
          "output_type": "stream",
          "name": "stderr",
          "text": [
            "/tmp/ipython-input-3204194322.py:2: FutureWarning: A value is trying to be set on a copy of a DataFrame or Series through chained assignment using an inplace method.\n",
            "The behavior will change in pandas 3.0. This inplace method will never work because the intermediate object on which we are setting values always behaves as a copy.\n",
            "\n",
            "For example, when doing 'df[col].method(value, inplace=True)', try using 'df.method({col: value}, inplace=True)' or df[col] = df[col].method(value) instead, to perform the operation inplace on the original object.\n",
            "\n",
            "\n",
            "  data['Age'].fillna(data['Age'].median(), inplace=True)\n"
          ]
        }
      ]
    },
    {
      "cell_type": "code",
      "source": [
        "# Fill missing Embarked with mode (most frequent value)\n",
        "data['Embarked'].fillna(data['Embarked'].mode()[0], inplace=True)"
      ],
      "metadata": {
        "colab": {
          "base_uri": "https://localhost:8080/"
        },
        "collapsed": true,
        "id": "9656sUOiw2MU",
        "outputId": "e686ec75-3041-4755-830e-290162c0c96b"
      },
      "execution_count": 5,
      "outputs": [
        {
          "output_type": "stream",
          "name": "stderr",
          "text": [
            "/tmp/ipython-input-2704763696.py:2: FutureWarning: A value is trying to be set on a copy of a DataFrame or Series through chained assignment using an inplace method.\n",
            "The behavior will change in pandas 3.0. This inplace method will never work because the intermediate object on which we are setting values always behaves as a copy.\n",
            "\n",
            "For example, when doing 'df[col].method(value, inplace=True)', try using 'df.method({col: value}, inplace=True)' or df[col] = df[col].method(value) instead, to perform the operation inplace on the original object.\n",
            "\n",
            "\n",
            "  data['Embarked'].fillna(data['Embarked'].mode()[0], inplace=True)\n"
          ]
        }
      ]
    },
    {
      "cell_type": "code",
      "source": [
        "# Convert categorical columns to numbers\n",
        "data['Sex'] = data['Sex'].map({'male':0, 'female':1})\n",
        "data['Embarked'] = data['Embarked'].map({'C':0, 'Q':1, 'S':2})\n"
      ],
      "metadata": {
        "id": "43yFagEIw8aO"
      },
      "execution_count": 6,
      "outputs": []
    },
    {
      "cell_type": "code",
      "source": [
        "print(\"\\nDataset after cleaning:\")\n",
        "print(data.head())"
      ],
      "metadata": {
        "colab": {
          "base_uri": "https://localhost:8080/"
        },
        "collapsed": true,
        "id": "lRbC_igLxFPh",
        "outputId": "07629636-737f-468a-8e87-af809518e3d5"
      },
      "execution_count": 35,
      "outputs": [
        {
          "output_type": "stream",
          "name": "stdout",
          "text": [
            "\n",
            "Dataset after cleaning:\n",
            "   Survived  Pclass  Sex   Age  SibSp  Parch     Fare  Embarked  FamilySize  \\\n",
            "0         0       3    0  22.0      1      0   7.2500         2           2   \n",
            "1         1       1    1  38.0      1      0  71.2833         0           2   \n",
            "2         1       3    1  26.0      0      0   7.9250         2           1   \n",
            "3         1       1    1  35.0      1      0  53.1000         2           2   \n",
            "4         0       3    0  35.0      0      0   8.0500         2           1   \n",
            "\n",
            "   IsAlone  \n",
            "0        0  \n",
            "1        0  \n",
            "2        1  \n",
            "3        0  \n",
            "4        1  \n"
          ]
        }
      ]
    },
    {
      "cell_type": "code",
      "source": [
        "print(data.isnull().sum())"
      ],
      "metadata": {
        "colab": {
          "base_uri": "https://localhost:8080/"
        },
        "collapsed": true,
        "id": "sQBIcJrX6fjp",
        "outputId": "06b884c4-c1d4-4fac-8493-5b0aed4ca2fe"
      },
      "execution_count": 29,
      "outputs": [
        {
          "output_type": "stream",
          "name": "stdout",
          "text": [
            "Survived    0\n",
            "Pclass      0\n",
            "Sex         0\n",
            "Age         0\n",
            "SibSp       0\n",
            "Parch       0\n",
            "Fare        0\n",
            "Embarked    0\n",
            "dtype: int64\n"
          ]
        }
      ]
    },
    {
      "cell_type": "markdown",
      "source": [
        "Q6: Why did you fill missing values in 'Age' and 'Embarked' like this?\n",
        "\n",
        "Answer:\n",
        "For Age, I filled the missing values with the median because it is a number column and the median is not affected much by extreme values. For Embarked, I filled the missing values with the mode (most common value) because it is a category column, so the most frequent option makes sense.\n",
        "\n",
        "Q7: Why did you choose this encoding method for 'Sex' and 'Embarked'?\n",
        "\n",
        "Answer:\n",
        "For Sex, I used mapping (male=0, female=1) since there are only two categories, so it is simple and clear. For Embarked, I gave numbers (C=0, Q=1, S=2). Encoding was needed here because it has more than two categories and the model needs numbers instead of text.\n",
        "\n",
        "Q8: Why did you decide to scale (or not scale) the numerical features?\n",
        "\n",
        "Answer:\n",
        "I did not apply scaling because many models used on Titanic data (like decision trees) don’t need it. But if I used models like logistic regression or SVM, then scaling (like StandardScaler) would be helpful.\n",
        "\n",
        "Q9: What do the first rows and data types show after cleaning?\n",
        "\n",
        "Answer:\n",
        "The first few rows show that missing values are handled and text columns like Sex and Embarked are now numbers. The data types confirm all columns are numeric and ready for training.\n",
        "\n",
        "Q10: Did you check if there are missing values left?\n",
        "\n",
        "Answer:\n",
        "Yes, I used:\n",
        "\n",
        "print(data.isnull().sum())\n",
        "The result showed 0 missing values in all columns, so the dataset is fully clean.\n",
        "\n",
        "Q11: Which original columns are not needed and why?\n",
        "\n",
        "Answer:\n",
        "I dropped PassengerId, Name, Ticket, and Cabin. PassengerId is just an ID, Name and Ticket don’t give useful survival info, and Cabin had too many missing values.\n",
        "\n",
        "Q12: Summary of cleaning steps\n",
        "\n",
        "Answer:\n",
        "\n",
        "Dropped useless columns (PassengerId, Name, Ticket, Cabin)\n",
        "\n",
        "Filled missing Age with median and Embarked with mode\n",
        "\n",
        "Changed Sex into numbers (0,1) and Embarked into numbers (0,1,2)\n",
        "\n",
        "Checked and confirmed no missing values remain\n",
        "\n",
        "Now the data is cleaned and ready to use for training the model."
      ],
      "metadata": {
        "id": "4lUQKk8a5v-I"
      }
    },
    {
      "cell_type": "code",
      "source": [
        "# Markdown cell content for Feature Engineering\n",
        "\n",
        "\"\"\"\n",
        "## Feature Engineering\n",
        "\n",
        "Feature Engineering is a crucial step where we create new features or modify existing ones to improve model performance. In this section, you will create new features that might provide more meaningful information to the model.\n",
        "\n",
        "**Instructions:**\n",
        "\n",
        "1.  Create a new feature called 'FamilySize' by combining the 'SibSp' (number of siblings/spouses) and 'Parch' (number of parents/children) columns, plus one for the passenger themselves.\n",
        "2.  Create a new binary feature called 'IsAlone' based on 'FamilySize'. This feature should be 1 if 'FamilySize' is 1 (meaning the passenger is alone) and 0 otherwise.\n",
        "3.  **Question:** Explain your reasoning for creating the 'FamilySize' feature. How might this feature potentially impact the survival prediction?\n",
        "4.  **Question:** Explain your reasoning for creating the 'IsAlone' feature. How might being alone or with family influence survival?\n",
        "5.  **Question:** Are there any other existing features that you believe could be transformed or combined to create new, potentially useful features? If so, describe what you would create and why.\n",
        "6.  Display the first few rows of the DataFrame, including the newly created 'FamilySize' and 'IsAlone' columns, to verify the changes.\n",
        "7.  **Question:** Briefly summarize the feature engineering steps you performed in this section and how you expect them to contribute to the model's performance.\n",
        "\"\"\""
      ],
      "metadata": {
        "id": "KTxyX1Td2oC0"
      },
      "execution_count": null,
      "outputs": []
    },
    {
      "cell_type": "code",
      "source": [
        "# Step 4: Features (X) and Target (y)\n",
        "X = data.drop('Survived', axis=1)\n",
        "y = data['Survived']"
      ],
      "metadata": {
        "id": "a7-lkyMAxN1U"
      },
      "execution_count": 30,
      "outputs": []
    },
    {
      "cell_type": "code",
      "source": [
        "# Step X: Feature Engineering\n",
        "# Create 'FamilySize' feature\n",
        "data['FamilySize'] = data['SibSp'] + data['Parch'] + 1\n",
        "\n",
        "# Create 'IsAlone' feature\n",
        "data['IsAlone'] = 0\n",
        "data.loc[data['FamilySize'] == 1, 'IsAlone'] = 1\n",
        "\n",
        "print(\"\\nDataset after Feature Engineering:\")\n",
        "print(data[['SibSp', 'Parch', 'FamilySize', 'IsAlone']].head())\n"
      ],
      "metadata": {
        "colab": {
          "base_uri": "https://localhost:8080/"
        },
        "collapsed": true,
        "id": "D8kU2i0W9p2R",
        "outputId": "cf9368db-020c-4a84-8952-9068000ce3ee"
      },
      "execution_count": 34,
      "outputs": [
        {
          "output_type": "stream",
          "name": "stdout",
          "text": [
            "\n",
            "Dataset after Feature Engineering:\n",
            "   SibSp  Parch  FamilySize  IsAlone\n",
            "0      1      0           2        0\n",
            "1      1      0           2        0\n",
            "2      0      0           1        1\n",
            "3      1      0           2        0\n",
            "4      0      0           1        1\n"
          ]
        }
      ]
    },
    {
      "cell_type": "markdown",
      "source": [
        "Q3: Why did you create the 'FamilySize' feature, and how can it affect survival prediction?\n",
        "\n",
        "Answer:\n",
        "I created FamilySize by adding SibSp and Parch, plus 1 for the passenger. This feature can help because survival might depend on whether a passenger was traveling alone or with family. For example, larger families may support each other, while very large groups may have difficulty escaping.\n",
        "\n",
        "Q4: Why did you create the 'IsAlone' feature, and how can being alone or with family influence survival?\n",
        "\n",
        "Answer:\n",
        "I made IsAlone to show if a passenger was traveling alone (FamilySize=1). Being alone could mean less support, which might lower survival chances. On the other hand, being with family could increase survival because of help and protection, but very large families might reduce chances.\n",
        "\n",
        "Q5: Can you think of other features to create?\n",
        "\n",
        "Answer:\n",
        "Yes, we could create:\n",
        "\n",
        "Title from the Name column (Mr, Mrs, Miss, etc.) because titles may reflect age, gender, or social class.\n",
        "\n",
        "AgeGroup by dividing Age into bins (child, young, adult, senior), since survival rates may vary by age group.\n",
        "These could help the model see patterns more clearly.\n",
        "\n",
        "Q7: Summary of Feature Engineering steps and how they help\n",
        "\n",
        "Answer:\n",
        "I created two new features: FamilySize and IsAlone. FamilySize shows the group size, and IsAlone shows if a passenger had no family with them. These features may improve the model because survival often depended on family support during the disaster."
      ],
      "metadata": {
        "id": "8hg08YXO7x2N"
      }
    },
    {
      "cell_type": "code",
      "source": [
        "# Markdown cell content for Model Selection and Training\n",
        "\n",
        "\"\"\"\n",
        "## Model Selection and Training\n",
        "\n",
        "Now that the data is cleaned and preprocessed, it's time to select a suitable model and train it on our data to predict survival.\n",
        "\n",
        "**Instructions:**\n",
        "\n",
        "1.  **Question:** Based on the problem (predicting a binary outcome: Survived or Not Survived) and the nature of the features, explain why Logistic Regression is an appropriate choice for this classification task.\n",
        "2.  Split the dataset into training and testing sets. Use 80% of the data for training and 20% for testing. Set a `random_state` for reproducibility.\n",
        "3.  Display the shapes of the resulting training and testing sets (e.g., `X_train.shape`, `X_test.shape`, `y_train.shape`, `y_test.shape`).\n",
        "4.  Initialize a Logistic Regression model. You can use the default parameters for now, but you might consider adjusting `max_iter` if you encounter convergence warnings.\n",
        "5.  Train the Logistic Regression model using the training data (`X_train` and `y_train`).\n",
        "6.  **Question:** Briefly explain the process of training a Logistic Regression model. What is the model learning during this phase?\n",
        "7.  **Question:** Why is it important to split the data into training and testing sets before training the model?\n",
        "8.  **Question:** Explain the role of the `random_state` parameter in the `train_test_split` function.\n",
        "9.  **Question:** Are there any other classification models you could consider for this problem? Briefly mention at least two others and why they might be suitable.\n",
        "10. **Question:** What potential issues might arise during model training (e.g., convergence warnings)? How might you address them?\n",
        "\"\"\""
      ],
      "metadata": {
        "id": "tb_tMY9x2wtV"
      },
      "execution_count": null,
      "outputs": []
    },
    {
      "cell_type": "code",
      "source": [
        "# Step 5: Train-Test Split\n",
        "X_train, X_test, y_train, y_test = train_test_split(X, y, test_size=0.2, random_state=42)"
      ],
      "metadata": {
        "id": "j8s3xSDLxSZv"
      },
      "execution_count": 31,
      "outputs": []
    },
    {
      "cell_type": "code",
      "source": [
        "# Shapes display karna\n",
        "print(\"X_train shape:\", X_train.shape)\n",
        "print(\"X_test shape:\", X_test.shape)\n",
        "print(\"y_train shape:\", y_train.shape)\n",
        "print(\"y_test shape:\", y_test.shape)"
      ],
      "metadata": {
        "collapsed": true,
        "colab": {
          "base_uri": "https://localhost:8080/"
        },
        "id": "0iT5rSVH_VEw",
        "outputId": "788abdcd-4668-45c8-d50a-cda355269ba4"
      },
      "execution_count": 37,
      "outputs": [
        {
          "output_type": "stream",
          "name": "stdout",
          "text": [
            "X_train shape: (712, 7)\n",
            "X_test shape: (179, 7)\n",
            "y_train shape: (712,)\n",
            "y_test shape: (179,)\n"
          ]
        }
      ]
    },
    {
      "cell_type": "code",
      "source": [
        "# Step 6: Train a Logistic Regression model\n",
        "model = LogisticRegression(max_iter=1000)\n",
        "model.fit(X_train, y_train)"
      ],
      "metadata": {
        "colab": {
          "base_uri": "https://localhost:8080/",
          "height": 80
        },
        "id": "dYTRLU4NxXLt",
        "outputId": "0ef584c6-ab26-411b-d304-e3a2a61b7799"
      },
      "execution_count": 32,
      "outputs": [
        {
          "output_type": "execute_result",
          "data": {
            "text/plain": [
              "LogisticRegression(max_iter=1000)"
            ],
            "text/html": [
              "<style>#sk-container-id-2 {\n",
              "  /* Definition of color scheme common for light and dark mode */\n",
              "  --sklearn-color-text: #000;\n",
              "  --sklearn-color-text-muted: #666;\n",
              "  --sklearn-color-line: gray;\n",
              "  /* Definition of color scheme for unfitted estimators */\n",
              "  --sklearn-color-unfitted-level-0: #fff5e6;\n",
              "  --sklearn-color-unfitted-level-1: #f6e4d2;\n",
              "  --sklearn-color-unfitted-level-2: #ffe0b3;\n",
              "  --sklearn-color-unfitted-level-3: chocolate;\n",
              "  /* Definition of color scheme for fitted estimators */\n",
              "  --sklearn-color-fitted-level-0: #f0f8ff;\n",
              "  --sklearn-color-fitted-level-1: #d4ebff;\n",
              "  --sklearn-color-fitted-level-2: #b3dbfd;\n",
              "  --sklearn-color-fitted-level-3: cornflowerblue;\n",
              "\n",
              "  /* Specific color for light theme */\n",
              "  --sklearn-color-text-on-default-background: var(--sg-text-color, var(--theme-code-foreground, var(--jp-content-font-color1, black)));\n",
              "  --sklearn-color-background: var(--sg-background-color, var(--theme-background, var(--jp-layout-color0, white)));\n",
              "  --sklearn-color-border-box: var(--sg-text-color, var(--theme-code-foreground, var(--jp-content-font-color1, black)));\n",
              "  --sklearn-color-icon: #696969;\n",
              "\n",
              "  @media (prefers-color-scheme: dark) {\n",
              "    /* Redefinition of color scheme for dark theme */\n",
              "    --sklearn-color-text-on-default-background: var(--sg-text-color, var(--theme-code-foreground, var(--jp-content-font-color1, white)));\n",
              "    --sklearn-color-background: var(--sg-background-color, var(--theme-background, var(--jp-layout-color0, #111)));\n",
              "    --sklearn-color-border-box: var(--sg-text-color, var(--theme-code-foreground, var(--jp-content-font-color1, white)));\n",
              "    --sklearn-color-icon: #878787;\n",
              "  }\n",
              "}\n",
              "\n",
              "#sk-container-id-2 {\n",
              "  color: var(--sklearn-color-text);\n",
              "}\n",
              "\n",
              "#sk-container-id-2 pre {\n",
              "  padding: 0;\n",
              "}\n",
              "\n",
              "#sk-container-id-2 input.sk-hidden--visually {\n",
              "  border: 0;\n",
              "  clip: rect(1px 1px 1px 1px);\n",
              "  clip: rect(1px, 1px, 1px, 1px);\n",
              "  height: 1px;\n",
              "  margin: -1px;\n",
              "  overflow: hidden;\n",
              "  padding: 0;\n",
              "  position: absolute;\n",
              "  width: 1px;\n",
              "}\n",
              "\n",
              "#sk-container-id-2 div.sk-dashed-wrapped {\n",
              "  border: 1px dashed var(--sklearn-color-line);\n",
              "  margin: 0 0.4em 0.5em 0.4em;\n",
              "  box-sizing: border-box;\n",
              "  padding-bottom: 0.4em;\n",
              "  background-color: var(--sklearn-color-background);\n",
              "}\n",
              "\n",
              "#sk-container-id-2 div.sk-container {\n",
              "  /* jupyter's `normalize.less` sets `[hidden] { display: none; }`\n",
              "     but bootstrap.min.css set `[hidden] { display: none !important; }`\n",
              "     so we also need the `!important` here to be able to override the\n",
              "     default hidden behavior on the sphinx rendered scikit-learn.org.\n",
              "     See: https://github.com/scikit-learn/scikit-learn/issues/21755 */\n",
              "  display: inline-block !important;\n",
              "  position: relative;\n",
              "}\n",
              "\n",
              "#sk-container-id-2 div.sk-text-repr-fallback {\n",
              "  display: none;\n",
              "}\n",
              "\n",
              "div.sk-parallel-item,\n",
              "div.sk-serial,\n",
              "div.sk-item {\n",
              "  /* draw centered vertical line to link estimators */\n",
              "  background-image: linear-gradient(var(--sklearn-color-text-on-default-background), var(--sklearn-color-text-on-default-background));\n",
              "  background-size: 2px 100%;\n",
              "  background-repeat: no-repeat;\n",
              "  background-position: center center;\n",
              "}\n",
              "\n",
              "/* Parallel-specific style estimator block */\n",
              "\n",
              "#sk-container-id-2 div.sk-parallel-item::after {\n",
              "  content: \"\";\n",
              "  width: 100%;\n",
              "  border-bottom: 2px solid var(--sklearn-color-text-on-default-background);\n",
              "  flex-grow: 1;\n",
              "}\n",
              "\n",
              "#sk-container-id-2 div.sk-parallel {\n",
              "  display: flex;\n",
              "  align-items: stretch;\n",
              "  justify-content: center;\n",
              "  background-color: var(--sklearn-color-background);\n",
              "  position: relative;\n",
              "}\n",
              "\n",
              "#sk-container-id-2 div.sk-parallel-item {\n",
              "  display: flex;\n",
              "  flex-direction: column;\n",
              "}\n",
              "\n",
              "#sk-container-id-2 div.sk-parallel-item:first-child::after {\n",
              "  align-self: flex-end;\n",
              "  width: 50%;\n",
              "}\n",
              "\n",
              "#sk-container-id-2 div.sk-parallel-item:last-child::after {\n",
              "  align-self: flex-start;\n",
              "  width: 50%;\n",
              "}\n",
              "\n",
              "#sk-container-id-2 div.sk-parallel-item:only-child::after {\n",
              "  width: 0;\n",
              "}\n",
              "\n",
              "/* Serial-specific style estimator block */\n",
              "\n",
              "#sk-container-id-2 div.sk-serial {\n",
              "  display: flex;\n",
              "  flex-direction: column;\n",
              "  align-items: center;\n",
              "  background-color: var(--sklearn-color-background);\n",
              "  padding-right: 1em;\n",
              "  padding-left: 1em;\n",
              "}\n",
              "\n",
              "\n",
              "/* Toggleable style: style used for estimator/Pipeline/ColumnTransformer box that is\n",
              "clickable and can be expanded/collapsed.\n",
              "- Pipeline and ColumnTransformer use this feature and define the default style\n",
              "- Estimators will overwrite some part of the style using the `sk-estimator` class\n",
              "*/\n",
              "\n",
              "/* Pipeline and ColumnTransformer style (default) */\n",
              "\n",
              "#sk-container-id-2 div.sk-toggleable {\n",
              "  /* Default theme specific background. It is overwritten whether we have a\n",
              "  specific estimator or a Pipeline/ColumnTransformer */\n",
              "  background-color: var(--sklearn-color-background);\n",
              "}\n",
              "\n",
              "/* Toggleable label */\n",
              "#sk-container-id-2 label.sk-toggleable__label {\n",
              "  cursor: pointer;\n",
              "  display: flex;\n",
              "  width: 100%;\n",
              "  margin-bottom: 0;\n",
              "  padding: 0.5em;\n",
              "  box-sizing: border-box;\n",
              "  text-align: center;\n",
              "  align-items: start;\n",
              "  justify-content: space-between;\n",
              "  gap: 0.5em;\n",
              "}\n",
              "\n",
              "#sk-container-id-2 label.sk-toggleable__label .caption {\n",
              "  font-size: 0.6rem;\n",
              "  font-weight: lighter;\n",
              "  color: var(--sklearn-color-text-muted);\n",
              "}\n",
              "\n",
              "#sk-container-id-2 label.sk-toggleable__label-arrow:before {\n",
              "  /* Arrow on the left of the label */\n",
              "  content: \"▸\";\n",
              "  float: left;\n",
              "  margin-right: 0.25em;\n",
              "  color: var(--sklearn-color-icon);\n",
              "}\n",
              "\n",
              "#sk-container-id-2 label.sk-toggleable__label-arrow:hover:before {\n",
              "  color: var(--sklearn-color-text);\n",
              "}\n",
              "\n",
              "/* Toggleable content - dropdown */\n",
              "\n",
              "#sk-container-id-2 div.sk-toggleable__content {\n",
              "  max-height: 0;\n",
              "  max-width: 0;\n",
              "  overflow: hidden;\n",
              "  text-align: left;\n",
              "  /* unfitted */\n",
              "  background-color: var(--sklearn-color-unfitted-level-0);\n",
              "}\n",
              "\n",
              "#sk-container-id-2 div.sk-toggleable__content.fitted {\n",
              "  /* fitted */\n",
              "  background-color: var(--sklearn-color-fitted-level-0);\n",
              "}\n",
              "\n",
              "#sk-container-id-2 div.sk-toggleable__content pre {\n",
              "  margin: 0.2em;\n",
              "  border-radius: 0.25em;\n",
              "  color: var(--sklearn-color-text);\n",
              "  /* unfitted */\n",
              "  background-color: var(--sklearn-color-unfitted-level-0);\n",
              "}\n",
              "\n",
              "#sk-container-id-2 div.sk-toggleable__content.fitted pre {\n",
              "  /* unfitted */\n",
              "  background-color: var(--sklearn-color-fitted-level-0);\n",
              "}\n",
              "\n",
              "#sk-container-id-2 input.sk-toggleable__control:checked~div.sk-toggleable__content {\n",
              "  /* Expand drop-down */\n",
              "  max-height: 200px;\n",
              "  max-width: 100%;\n",
              "  overflow: auto;\n",
              "}\n",
              "\n",
              "#sk-container-id-2 input.sk-toggleable__control:checked~label.sk-toggleable__label-arrow:before {\n",
              "  content: \"▾\";\n",
              "}\n",
              "\n",
              "/* Pipeline/ColumnTransformer-specific style */\n",
              "\n",
              "#sk-container-id-2 div.sk-label input.sk-toggleable__control:checked~label.sk-toggleable__label {\n",
              "  color: var(--sklearn-color-text);\n",
              "  background-color: var(--sklearn-color-unfitted-level-2);\n",
              "}\n",
              "\n",
              "#sk-container-id-2 div.sk-label.fitted input.sk-toggleable__control:checked~label.sk-toggleable__label {\n",
              "  background-color: var(--sklearn-color-fitted-level-2);\n",
              "}\n",
              "\n",
              "/* Estimator-specific style */\n",
              "\n",
              "/* Colorize estimator box */\n",
              "#sk-container-id-2 div.sk-estimator input.sk-toggleable__control:checked~label.sk-toggleable__label {\n",
              "  /* unfitted */\n",
              "  background-color: var(--sklearn-color-unfitted-level-2);\n",
              "}\n",
              "\n",
              "#sk-container-id-2 div.sk-estimator.fitted input.sk-toggleable__control:checked~label.sk-toggleable__label {\n",
              "  /* fitted */\n",
              "  background-color: var(--sklearn-color-fitted-level-2);\n",
              "}\n",
              "\n",
              "#sk-container-id-2 div.sk-label label.sk-toggleable__label,\n",
              "#sk-container-id-2 div.sk-label label {\n",
              "  /* The background is the default theme color */\n",
              "  color: var(--sklearn-color-text-on-default-background);\n",
              "}\n",
              "\n",
              "/* On hover, darken the color of the background */\n",
              "#sk-container-id-2 div.sk-label:hover label.sk-toggleable__label {\n",
              "  color: var(--sklearn-color-text);\n",
              "  background-color: var(--sklearn-color-unfitted-level-2);\n",
              "}\n",
              "\n",
              "/* Label box, darken color on hover, fitted */\n",
              "#sk-container-id-2 div.sk-label.fitted:hover label.sk-toggleable__label.fitted {\n",
              "  color: var(--sklearn-color-text);\n",
              "  background-color: var(--sklearn-color-fitted-level-2);\n",
              "}\n",
              "\n",
              "/* Estimator label */\n",
              "\n",
              "#sk-container-id-2 div.sk-label label {\n",
              "  font-family: monospace;\n",
              "  font-weight: bold;\n",
              "  display: inline-block;\n",
              "  line-height: 1.2em;\n",
              "}\n",
              "\n",
              "#sk-container-id-2 div.sk-label-container {\n",
              "  text-align: center;\n",
              "}\n",
              "\n",
              "/* Estimator-specific */\n",
              "#sk-container-id-2 div.sk-estimator {\n",
              "  font-family: monospace;\n",
              "  border: 1px dotted var(--sklearn-color-border-box);\n",
              "  border-radius: 0.25em;\n",
              "  box-sizing: border-box;\n",
              "  margin-bottom: 0.5em;\n",
              "  /* unfitted */\n",
              "  background-color: var(--sklearn-color-unfitted-level-0);\n",
              "}\n",
              "\n",
              "#sk-container-id-2 div.sk-estimator.fitted {\n",
              "  /* fitted */\n",
              "  background-color: var(--sklearn-color-fitted-level-0);\n",
              "}\n",
              "\n",
              "/* on hover */\n",
              "#sk-container-id-2 div.sk-estimator:hover {\n",
              "  /* unfitted */\n",
              "  background-color: var(--sklearn-color-unfitted-level-2);\n",
              "}\n",
              "\n",
              "#sk-container-id-2 div.sk-estimator.fitted:hover {\n",
              "  /* fitted */\n",
              "  background-color: var(--sklearn-color-fitted-level-2);\n",
              "}\n",
              "\n",
              "/* Specification for estimator info (e.g. \"i\" and \"?\") */\n",
              "\n",
              "/* Common style for \"i\" and \"?\" */\n",
              "\n",
              ".sk-estimator-doc-link,\n",
              "a:link.sk-estimator-doc-link,\n",
              "a:visited.sk-estimator-doc-link {\n",
              "  float: right;\n",
              "  font-size: smaller;\n",
              "  line-height: 1em;\n",
              "  font-family: monospace;\n",
              "  background-color: var(--sklearn-color-background);\n",
              "  border-radius: 1em;\n",
              "  height: 1em;\n",
              "  width: 1em;\n",
              "  text-decoration: none !important;\n",
              "  margin-left: 0.5em;\n",
              "  text-align: center;\n",
              "  /* unfitted */\n",
              "  border: var(--sklearn-color-unfitted-level-1) 1pt solid;\n",
              "  color: var(--sklearn-color-unfitted-level-1);\n",
              "}\n",
              "\n",
              ".sk-estimator-doc-link.fitted,\n",
              "a:link.sk-estimator-doc-link.fitted,\n",
              "a:visited.sk-estimator-doc-link.fitted {\n",
              "  /* fitted */\n",
              "  border: var(--sklearn-color-fitted-level-1) 1pt solid;\n",
              "  color: var(--sklearn-color-fitted-level-1);\n",
              "}\n",
              "\n",
              "/* On hover */\n",
              "div.sk-estimator:hover .sk-estimator-doc-link:hover,\n",
              ".sk-estimator-doc-link:hover,\n",
              "div.sk-label-container:hover .sk-estimator-doc-link:hover,\n",
              ".sk-estimator-doc-link:hover {\n",
              "  /* unfitted */\n",
              "  background-color: var(--sklearn-color-unfitted-level-3);\n",
              "  color: var(--sklearn-color-background);\n",
              "  text-decoration: none;\n",
              "}\n",
              "\n",
              "div.sk-estimator.fitted:hover .sk-estimator-doc-link.fitted:hover,\n",
              ".sk-estimator-doc-link.fitted:hover,\n",
              "div.sk-label-container:hover .sk-estimator-doc-link.fitted:hover,\n",
              ".sk-estimator-doc-link.fitted:hover {\n",
              "  /* fitted */\n",
              "  background-color: var(--sklearn-color-fitted-level-3);\n",
              "  color: var(--sklearn-color-background);\n",
              "  text-decoration: none;\n",
              "}\n",
              "\n",
              "/* Span, style for the box shown on hovering the info icon */\n",
              ".sk-estimator-doc-link span {\n",
              "  display: none;\n",
              "  z-index: 9999;\n",
              "  position: relative;\n",
              "  font-weight: normal;\n",
              "  right: .2ex;\n",
              "  padding: .5ex;\n",
              "  margin: .5ex;\n",
              "  width: min-content;\n",
              "  min-width: 20ex;\n",
              "  max-width: 50ex;\n",
              "  color: var(--sklearn-color-text);\n",
              "  box-shadow: 2pt 2pt 4pt #999;\n",
              "  /* unfitted */\n",
              "  background: var(--sklearn-color-unfitted-level-0);\n",
              "  border: .5pt solid var(--sklearn-color-unfitted-level-3);\n",
              "}\n",
              "\n",
              ".sk-estimator-doc-link.fitted span {\n",
              "  /* fitted */\n",
              "  background: var(--sklearn-color-fitted-level-0);\n",
              "  border: var(--sklearn-color-fitted-level-3);\n",
              "}\n",
              "\n",
              ".sk-estimator-doc-link:hover span {\n",
              "  display: block;\n",
              "}\n",
              "\n",
              "/* \"?\"-specific style due to the `<a>` HTML tag */\n",
              "\n",
              "#sk-container-id-2 a.estimator_doc_link {\n",
              "  float: right;\n",
              "  font-size: 1rem;\n",
              "  line-height: 1em;\n",
              "  font-family: monospace;\n",
              "  background-color: var(--sklearn-color-background);\n",
              "  border-radius: 1rem;\n",
              "  height: 1rem;\n",
              "  width: 1rem;\n",
              "  text-decoration: none;\n",
              "  /* unfitted */\n",
              "  color: var(--sklearn-color-unfitted-level-1);\n",
              "  border: var(--sklearn-color-unfitted-level-1) 1pt solid;\n",
              "}\n",
              "\n",
              "#sk-container-id-2 a.estimator_doc_link.fitted {\n",
              "  /* fitted */\n",
              "  border: var(--sklearn-color-fitted-level-1) 1pt solid;\n",
              "  color: var(--sklearn-color-fitted-level-1);\n",
              "}\n",
              "\n",
              "/* On hover */\n",
              "#sk-container-id-2 a.estimator_doc_link:hover {\n",
              "  /* unfitted */\n",
              "  background-color: var(--sklearn-color-unfitted-level-3);\n",
              "  color: var(--sklearn-color-background);\n",
              "  text-decoration: none;\n",
              "}\n",
              "\n",
              "#sk-container-id-2 a.estimator_doc_link.fitted:hover {\n",
              "  /* fitted */\n",
              "  background-color: var(--sklearn-color-fitted-level-3);\n",
              "}\n",
              "</style><div id=\"sk-container-id-2\" class=\"sk-top-container\"><div class=\"sk-text-repr-fallback\"><pre>LogisticRegression(max_iter=1000)</pre><b>In a Jupyter environment, please rerun this cell to show the HTML representation or trust the notebook. <br />On GitHub, the HTML representation is unable to render, please try loading this page with nbviewer.org.</b></div><div class=\"sk-container\" hidden><div class=\"sk-item\"><div class=\"sk-estimator fitted sk-toggleable\"><input class=\"sk-toggleable__control sk-hidden--visually\" id=\"sk-estimator-id-2\" type=\"checkbox\" checked><label for=\"sk-estimator-id-2\" class=\"sk-toggleable__label fitted sk-toggleable__label-arrow\"><div><div>LogisticRegression</div></div><div><a class=\"sk-estimator-doc-link fitted\" rel=\"noreferrer\" target=\"_blank\" href=\"https://scikit-learn.org/1.6/modules/generated/sklearn.linear_model.LogisticRegression.html\">?<span>Documentation for LogisticRegression</span></a><span class=\"sk-estimator-doc-link fitted\">i<span>Fitted</span></span></div></label><div class=\"sk-toggleable__content fitted\"><pre>LogisticRegression(max_iter=1000)</pre></div> </div></div></div></div>"
            ]
          },
          "metadata": {},
          "execution_count": 32
        }
      ]
    },
    {
      "cell_type": "markdown",
      "source": [
        "Q1: Why Logistic Regression is a good choice here?\n",
        "\n",
        "Answer: Logistic Regression is suitable because our problem is binary (0 = Not Survived, 1 = Survived). It gives probabilities between 0 and 1, which makes it perfect for yes/no predictions. It is also simple and easy to interpret.\n",
        "\n",
        "Q6: What happens during training of Logistic Regression?\n",
        "\n",
        "Answer: During training, the model learns the relationship between input features (like Age, Sex, Fare) and the target (Survived). It finds the best weights so that it can correctly predict survival probabilities.\n",
        "\n",
        "Q7: Why split data into train and test sets?\n",
        "\n",
        "Answer: We split the data so that the model is trained on one part and tested on unseen data. This helps us check if the model can generalize well, not just memorize the training data.\n",
        "\n",
        "Q8: What is the role of random_state?\n",
        "\n",
        "Answer: The random_state makes sure the data split is the same every time we run the code. This helps in reproducibility, so results don’t change randomly.\n",
        "\n",
        "Q9: Other classification models to consider\n",
        "\n",
        "Answer:\n",
        "\n",
        "Decision Tree – because it can handle non-linear relationships and is easy to visualize.\n",
        "\n",
        "Random Forest – an ensemble of trees that reduces overfitting and usually gives better accuracy.\n",
        "\n",
        "Q10: Potential issues during training\n",
        "\n",
        "Answer: A common issue is convergence warning, which means the model did not finish learning in the default number of steps. To fix this, we can increase max_iter or scale the features."
      ],
      "metadata": {
        "id": "Jz8vrVsO-QfX"
      }
    },
    {
      "cell_type": "code",
      "source": [
        "# Markdown cell content for Prediction and Interpretation\n",
        "\n",
        "\"\"\"\n",
        "## Prediction and Interpretation\n",
        "\n",
        "In this final section, you will use your trained model to make predictions on new, unseen data and interpret what the model's output means. Understanding how the model arrives at its predictions is key to building trust and identifying potential biases or areas for improvement.\n",
        "\n",
        "**Instructions:**\n",
        "\n",
        "1.  Recall the `sample_passenger` data point you used in the initial code cell. Use your trained Logistic Regression model to make a prediction for this sample passenger.\n",
        "2.  Display the predicted class label (0 or 1) for the `sample_passenger`.\n",
        "3.  Use the model's `predict_proba` method to get the predicted probabilities for the `sample_passenger` belonging to each class (0 and 1). Display these probabilities.\n",
        "\n",
        "**Questions:**\n",
        "\n",
        "1.  **Question:** What is the difference between the output of `model.predict()` and `model.predict_proba()`?\n",
        "2.  **Question:** Interpret the predicted probability values you obtained for the `sample_passenger`. What do these numbers tell you about the model's confidence in its prediction?\n",
        "3.  **Question:** Based on the sample passenger's features (Pclass, Sex, Age, SibSp, Parch, Fare, Embarked), explain *why* you think the model made the prediction it did. Which features likely contributed most to this outcome? (Hint: Consider the relationships you explored in the data exploration and the nature of Logistic Regression).\n",
        "4.  **Question:** How would changing one or more of the sample passenger's features (e.g., changing their 'Sex' to female, 'Pclass' to 1st, or increasing their 'Fare') likely affect the model's prediction and the predicted probabilities? Explain your reasoning.\n",
        "5.  **Question:** While Logistic Regression doesn't have a direct 'feature importance' attribute like some other models, you can examine the model's coefficients. How do the coefficients of your trained model relate to the influence of each feature on the predicted outcome (survival)? (You might need to explore `model.coef_` and `model.intercept_`).\n",
        "6.  **Question:** What does a positive coefficient for a feature in Logistic Regression suggest about its relationship with the likelihood of the positive class (survival)? What about a negative coefficient?\n",
        "7.  **Question:** Based on the model's coefficients, which features appear to be the strongest predictors of survival? Do these align with your initial data exploration findings?\n",
        "8.  **Question:** Consider a scenario where a feature that you expected to be important has a very small coefficient. What could be potential reasons for this?\n",
        "9.  **Question:** Discuss the limitations of interpreting model coefficients directly, especially when features are on different scales or are correlated.\n",
        "10. **Question:** Briefly summarize your understanding of how the Logistic Regression model uses the input features to arrive at a survival prediction, based on the predictions and coefficient interpretation you performed.\n",
        "\"\"\""
      ],
      "metadata": {
        "id": "VOShYupa3S3w"
      },
      "execution_count": null,
      "outputs": []
    },
    {
      "cell_type": "code",
      "source": [
        "# Step 7: Predictions\n",
        "y_pred = model.predict(X_test)"
      ],
      "metadata": {
        "id": "d6DPZkwkxcx3"
      },
      "execution_count": 33,
      "outputs": []
    },
    {
      "cell_type": "markdown",
      "source": [
        "Q1: What is the difference between model.predict() and model.predict_proba()?\n",
        "\n",
        "model.predict() only tells you the final class (0 = did not survive, 1 = survived).\n",
        "\n",
        "model.predict_proba() shows the probabilities for each class (e.g., 70% chance of not surviving, 30% chance of surviving).\n",
        "\n",
        "Q2: Interpret the predicted probability values you obtained for the sample_passenger.\n",
        "\n",
        "If the probabilities are something like [0.8, 0.2], it means the model is 80% confident the passenger will not survive and only 20% confident they will survive. These numbers give us an idea of how sure the model is about its decision.\n",
        "\n",
        "Q3: Based on the sample passenger's features, why do you think the model made this prediction?\n",
        "\n",
        "In Titanic data, survival was strongly linked to gender, class, and fare. For example, males in 3rd class with low fares usually had a much lower survival rate. If the sample passenger is a male, 3rd class, low fare, the model likely predicted 0 (not survived) because historically these groups had poor chances.\n",
        "\n",
        "Q4: How would changing features affect the prediction?\n",
        "\n",
        "If we change Sex from male to female, survival chances would likely go up.\n",
        "\n",
        "If we change Pclass from 3rd to 1st, chances improve again.\n",
        "\n",
        "Increasing Fare also improves survival probability (because higher fare often meant better access to lifeboats and cabins).\n",
        "So, small feature changes can flip the prediction from “not survived” to “survived.”\n",
        "\n",
        "Q5: How do coefficients in Logistic Regression relate to feature influence?\n",
        "\n",
        "The coefficients tell us how much each feature affects survival. A positive coefficient means that feature increases the chance of survival, while a negative coefficient means it decreases survival chances.\n",
        "\n",
        "Q6: What does a positive vs. negative coefficient mean?\n",
        "\n",
        "Positive coefficient: Higher value of this feature increases survival probability (e.g., being female).\n",
        "\n",
        "Negative coefficient: Higher value of this feature reduces survival probability (e.g., being male, higher age, 3rd class).\n",
        "\n",
        "Q7: Which features are the strongest predictors of survival?\n",
        "\n",
        "Typically, Sex (female), Pclass (1st class), and Fare have the biggest impact.\n",
        "\n",
        "Q8: Why might an expected feature have a very small coefficient?\n",
        "\n",
        "This could happen if:\n",
        "\n",
        "The feature is not strongly related to survival.\n",
        "\n",
        "The feature is correlated with another feature (so the model doesn’t give it extra importance).\n",
        "\n",
        "Or the effect is already captured by other variables.\n",
        "\n",
        "Q9: What are the limitations of interpreting coefficients directly?\n",
        "\n",
        "Features might be on different scales (Age vs. Fare).\n",
        "\n",
        "Some features may be correlated (e.g., Pclass and Fare).\n",
        "\n",
        "Because of this, coefficients alone don’t always tell the full story. Scaling and feature selection matter.\n",
        "\n",
        "Q10: Summarize how Logistic Regression uses features for prediction.\n",
        "\n",
        "Logistic Regression looks at all the passenger’s features, multiplies them by their coefficients, and adds them up. Then it applies a logistic (sigmoid) function to turn the score into a probability. If the probability is above 0.5, the model predicts survival (1), otherwise not survived (0)."
      ],
      "metadata": {
        "id": "mQpE2_EAAeY7"
      }
    },
    {
      "cell_type": "code",
      "source": [
        "# Markdown cell content for Model Evaluation\n",
        "\n",
        "\"\"\"\n",
        "## Model Evaluation\n",
        "\n",
        "Evaluating your model's performance is crucial to understand how well it predicts survival outcomes and to identify areas for potential improvement. In this section, you will evaluate the trained Logistic Regression model using various metrics.\n",
        "\n",
        "**Instructions:**\n",
        "\n",
        "1.  Use the trained Logistic Regression model to make predictions on the test set (`X_test`). Store these predictions in a variable (e.g., `y_pred`).\n",
        "2.  Calculate the accuracy of the model by comparing the predicted values (`y_pred`) with the actual values (`y_test`). Display the accuracy score.\n",
        "3.  Generate and display the confusion matrix for the model's predictions on the test set.\n",
        "4.  Generate and display the classification report, which includes precision, recall, F1-score, and support for each class (Survived and Not Survived).\n",
        "\n",
        "**Questions:**\n",
        "\n",
        "1.  **Question:** What does the accuracy score represent in the context of this problem? Is accuracy alone a sufficient metric for evaluating this model? Explain why or why not.\n",
        "2.  **Question:** Interpret the confusion matrix you generated. Clearly identify and explain the meaning of True Positives (TP), True Negatives (TN), False Positives (FP), and False Negatives (FN) in the context of predicting Titanic survival.\n",
        "3.  **Question:** Calculate the precision for the 'Survived' class (class 1) based on the confusion matrix. Explain what this precision value means.\n",
        "4.  **Question:** Calculate the recall (or sensitivity) for the 'Survived' class (class 1) based on the confusion matrix. Explain what this recall value means.\n",
        "5.  **Question:** Explain the difference between precision and recall. Why is it important to consider both metrics?\n",
        "6.  **Question:** What is the F1-score, and why is it a useful metric, especially when dealing with imbalanced datasets?\n",
        "7.  **Question:** Based on the classification report, which class (Survived or Not Survived) does the model seem to predict better? Justify your answer using the metrics from the report.\n",
        "8.  **Question:** Discuss the strengths and weaknesses of the Logistic Regression model as revealed by the evaluation metrics.\n",
        "9.  **Question:** Are there any specific types of errors (False Positives or False Negatives) that might be more critical or costly in the context of predicting survival? Explain your reasoning.\n",
        "10. **Question:** Based on your evaluation, what are the key takeaways about the model's performance? What aspects might you focus on to potentially improve the model in the future?\n",
        "\"\"\""
      ],
      "metadata": {
        "colab": {
          "base_uri": "https://localhost:8080/",
          "height": 139
        },
        "id": "XvtoZoL42hJh",
        "outputId": "4541e855-7cf9-47d0-e712-7eaaeb4469a2"
      },
      "execution_count": 27,
      "outputs": [
        {
          "output_type": "execute_result",
          "data": {
            "text/plain": [
              "\"\\n## Model Evaluation\\n\\nEvaluating your model's performance is crucial to understand how well it predicts survival outcomes and to identify areas for potential improvement. In this section, you will evaluate the trained Logistic Regression model using various metrics.\\n\\n**Instructions:**\\n\\n1.  Use the trained Logistic Regression model to make predictions on the test set (`X_test`). Store these predictions in a variable (e.g., `y_pred`).\\n2.  Calculate the accuracy of the model by comparing the predicted values (`y_pred`) with the actual values (`y_test`). Display the accuracy score.\\n3.  Generate and display the confusion matrix for the model's predictions on the test set.\\n4.  Generate and display the classification report, which includes precision, recall, F1-score, and support for each class (Survived and Not Survived).\\n\\n**Questions:**\\n\\n1.  **Question:** What does the accuracy score represent in the context of this problem? Is accuracy alone a sufficient metric for evaluating this model? Explain why or why not.\\n2.  **Question:** Interpret the confusion matrix you generated. Clearly identify and explain the meaning of True Positives (TP), True Negatives (TN), False Positives (FP), and False Negatives (FN) in the context of predicting Titanic survival.\\n3.  **Question:** Calculate the precision for the 'Survived' class (class 1) based on the confusion matrix. Explain what this precision value means.\\n4.  **Question:** Calculate the recall (or sensitivity) for the 'Survived' class (class 1) based on the confusion matrix. Explain what this recall value means.\\n5.  **Question:** Explain the difference between precision and recall. Why is it important to consider both metrics?\\n6.  **Question:** What is the F1-score, and why is it a useful metric, especially when dealing with imbalanced datasets?\\n7.  **Question:** Based on the classification report, which class (Survived or Not Survived) does the model seem to predict better? Justify your answer using the metrics from the report.\\n8.  **Question:** Discuss the strengths and weaknesses of the Logistic Regression model as revealed by the evaluation metrics.\\n9.  **Question:** Are there any specific types of errors (False Positives or False Negatives) that might be more critical or costly in the context of predicting survival? Explain your reasoning.\\n10. **Question:** Based on your evaluation, what are the key takeaways about the model's performance? What aspects might you focus on to potentially improve the model in the future?\\n\""
            ],
            "application/vnd.google.colaboratory.intrinsic+json": {
              "type": "string"
            }
          },
          "metadata": {},
          "execution_count": 27
        }
      ]
    },
    {
      "cell_type": "code",
      "source": [
        "# Step 8: Evaluation\n",
        "print(\"\\n✅ Model Accuracy:\", accuracy_score(y_test, y_pred))\n",
        "print(\"\\nConfusion Matrix:\\n\", confusion_matrix(y_test, y_pred))\n",
        "print(\"\\nClassification Report:\\n\", classification_report(y_test, y_pred))"
      ],
      "metadata": {
        "colab": {
          "base_uri": "https://localhost:8080/"
        },
        "collapsed": true,
        "id": "R87lV6cNxgZp",
        "outputId": "decba5b8-2900-46fd-d029-fc46d2247c35"
      },
      "execution_count": 12,
      "outputs": [
        {
          "output_type": "stream",
          "name": "stdout",
          "text": [
            "\n",
            "✅ Model Accuracy: 0.8100558659217877\n",
            "\n",
            "Confusion Matrix:\n",
            " [[90 15]\n",
            " [19 55]]\n",
            "\n",
            "Classification Report:\n",
            "               precision    recall  f1-score   support\n",
            "\n",
            "           0       0.83      0.86      0.84       105\n",
            "           1       0.79      0.74      0.76        74\n",
            "\n",
            "    accuracy                           0.81       179\n",
            "   macro avg       0.81      0.80      0.80       179\n",
            "weighted avg       0.81      0.81      0.81       179\n",
            "\n"
          ]
        }
      ]
    },
    {
      "cell_type": "markdown",
      "source": [
        "Q1: What does the accuracy score represent? Is it enough?\n",
        "\n",
        "Accuracy shows how many predictions were correct out of all test cases. For example, if accuracy is 80%, it means 80% of passengers were correctly predicted.\n",
        "But accuracy alone is not enough, because it doesn’t show if the model is better at predicting survivors or non-survivors. Other metrics (precision, recall, F1) are also needed.\n",
        "\n",
        "Q2: Interpret the confusion matrix.\n",
        "\n",
        "True Positive (TP): Model predicted survived, and the person actually survived.\n",
        "\n",
        "True Negative (TN): Model predicted not survived, and the person actually did not survive.\n",
        "\n",
        "False Positive (FP): Model predicted survived, but the person actually did not survive.\n",
        "\n",
        "False Negative (FN): Model predicted not survived, but the person actually survived.\n",
        "\n",
        "This helps us see where the model is making mistakes.\n",
        "\n",
        "Q3: Precision for ‘Survived’ class.\n",
        "\n",
        "Precision tells us: Out of all people the model predicted as survived, how many really survived?\n",
        "For example, if precision is 0.75, that means 75% of predicted survivors were actually survivors.\n",
        "\n",
        "Q4: Recall for ‘Survived’ class.\n",
        "\n",
        "Recall tells us: Out of all actual survivors, how many did the model correctly predict as survived?\n",
        "For example, if recall is 0.60, that means the model correctly found 60% of the real survivors.\n",
        "\n",
        "Q5: Difference between precision and recall. Why both matter?\n",
        "\n",
        "Precision focuses on correctness of positive predictions.\n",
        "\n",
        "Recall focuses on not missing any actual positives.\n",
        "Both matter because a model might have high precision but low recall (it predicts few survivors but mostly correct), or high recall but low precision (it predicts many survivors but makes mistakes).\n",
        "\n",
        "Q6: What is the F1-score, and why useful?\n",
        "\n",
        "The F1-score is the balance between precision and recall. It is especially useful when the dataset is imbalanced (e.g., more people died than survived in Titanic). It helps measure overall performance better than accuracy.\n",
        "\n",
        "Q7: Which class does the model predict better?\n",
        "\n",
        "Usually, the model predicts “Not Survived” better because more passengers died, so the model is biased toward that class. This is shown by higher precision/recall values for class 0 (Not Survived).\n",
        "\n",
        "Q8: Strengths and weaknesses of Logistic Regression here.\n",
        "\n",
        "Strengths: Easy to understand, fast, gives good baseline performance.\n",
        "\n",
        "Weaknesses: May not capture complex patterns, might perform worse if features are not linear or dataset is imbalanced.\n",
        "\n",
        "Q9: Which errors are more critical?\n",
        "\n",
        "False Negatives (FN): Predicting someone did not survive when they actually survived could be seen as more serious, because we are missing people who actually had a chance.\n",
        "\n",
        "Q10: Key takeaways & future improvements.\n",
        "\n",
        "The model works decently, but it predicts “Not Survived” better.\n",
        "\n",
        "It sometimes struggles to correctly identify survivors.\n",
        "\n",
        "To improve, we could:\n",
        "\n",
        "Try other models (e.g., Random Forest, SVM).\n",
        "\n",
        "Do more feature engineering.\n",
        "\n",
        "Balance the dataset (survivors vs. non-survivors).\n",
        "\n",
        "Scale/normalize features if needed."
      ],
      "metadata": {
        "id": "rhsQc0giCYH2"
      }
    },
    {
      "cell_type": "code",
      "source": [
        "# Markdown cell content for Conclusion and Future Work\n",
        "\n",
        "\"\"\"\n",
        "## Conclusion and Future Work\n",
        "\n",
        "You have successfully completed the entire machine learning pipeline for Titanic survival prediction, from data loading and cleaning to model training, evaluation, and prediction. This final section is where you will summarize your findings and propose next steps.\n",
        "\n",
        "**Instructions:**\n",
        "\n",
        "1.  Based on your analysis and model evaluation, summarize the key insights you gained about the factors influencing survival on the Titanic.\n",
        "2.  Reflect on the performance of your Logistic Regression model. What are its strengths and weaknesses?\n",
        "3.  Suggest specific areas for future work that could potentially improve the model's performance.\n",
        "\n",
        "**Questions:**\n",
        "\n",
        "1.  **Question:** What were the most significant features in predicting survival according to your model and data exploration? How do these align with historical accounts or common sense?\n",
        "2.  **Question:** How well did the Logistic Regression model perform based on the evaluation metrics you used (Accuracy, Precision, Recall, F1-score)?\n",
        "3.  **Question:** What were the main limitations you observed in the current model or the data itself?\n",
        "4.  **Question:** Propose at least two specific feature engineering ideas that you didn't implement but believe could potentially improve the model's predictive power. Explain why.\n",
        "5.  **Question:** Suggest at least two alternative machine learning models that you could try for this classification problem. Explain why these models might be suitable and how they differ from Logistic Regression.\n",
        "6.  **Question:** How could you potentially improve the handling of missing values or outliers in the dataset in future work?\n",
        "7.  **Question:** How might cross-validation be used in future work to get a more robust estimate of the model's performance?\n",
        "8.  **Question:** What steps could be taken to make the model's predictions more interpretable or explainable, especially if you were to use a more complex model?\n",
        "9.  **Question:** Consider the potential ethical implications of using a model like this. Are there any biases in the data or model that could lead to unfair predictions? How might you address this in the future?\n",
        "10. **Question:** Briefly outline a complete plan for future work to build upon your current analysis and improve the Titanic survival prediction model.\n",
        "\n",
        "\"\"\""
      ],
      "metadata": {
        "id": "kUxJTkkP3ZKz"
      },
      "execution_count": null,
      "outputs": []
    },
    {
      "cell_type": "code",
      "source": [
        "# Step 9: Test with custom input\n",
        "sample_passenger = np.array([[3, 0, 22.0, 1, 0, 7.25, 2]])\n",
        "# Format: [Pclass, Sex, Age, SibSp, Parch, Fare, Embarked]\n",
        "prediction = model.predict(sample_passenger)\n",
        "print(\"\\n🎯 Sample Passenger Prediction (0 = Not Survived, 1 = Survived):\", prediction[0])"
      ],
      "metadata": {
        "colab": {
          "base_uri": "https://localhost:8080/"
        },
        "collapsed": true,
        "id": "w9JxhUmExxT0",
        "outputId": "09b41753-1608-4ee8-e4f4-bb81295cbc72"
      },
      "execution_count": 13,
      "outputs": [
        {
          "output_type": "stream",
          "name": "stdout",
          "text": [
            "\n",
            "🎯 Sample Passenger Prediction (0 = Not Survived, 1 = Survived): 0\n"
          ]
        },
        {
          "output_type": "stream",
          "name": "stderr",
          "text": [
            "/usr/local/lib/python3.12/dist-packages/sklearn/utils/validation.py:2739: UserWarning: X does not have valid feature names, but LogisticRegression was fitted with feature names\n",
            "  warnings.warn(\n"
          ]
        }
      ]
    },
    {
      "cell_type": "markdown",
      "source": [
        "Q1: Most significant features in predicting survival\n",
        "\n",
        "The most important features were Sex, Pclass (ticket class), and Age.\n",
        "\n",
        "Q2: Logistic Regression model performance\n",
        "\n",
        "The Logistic Regression model performed fairly well, with decent accuracy and precision, but recall for survivors was lower. This means it predicted non-survivors more accurately than survivors.\n",
        "\n",
        "Q3: Main limitations\n",
        "\n",
        "The model is too simple and may miss complex patterns.\n",
        "\n",
        "Data is imbalanced (more people died than survived).\n",
        "\n",
        "Some features like Cabin were missing for most passengers and had to be dropped\n",
        "\n",
        "Q4: Two new feature engineering ideas\n",
        "\n",
        "Title extraction (Mr, Mrs, Miss, etc.) from passenger names – titles often reflect age, gender, and social status.\n",
        "\n",
        "Group survival chances – combining family size with ticket/fare info to see if people traveling together had better survival rates.\n",
        "\n",
        "Both could add useful social context to the model.\n",
        "\n",
        "Q5: Two alternative ML models\n",
        "\n",
        "Random Forest – handles non-linear patterns well and gives feature importance.\n",
        "\n",
        "Gradient Boosting (XGBoost/LightGBM) – often gives higher accuracy on tabular data by focusing on correcting previous errors.\n",
        "These models are more flexible than Logistic Regression.\n",
        "\n",
        "Q6: Improving handling of missing values/outliers\n",
        "\n",
        "Use predictive imputation (like predicting Age based on other features) instead of just median filling.\n",
        "\n",
        "Detect and handle outliers in Fare (extremely high ticket prices) to avoid skewing results.\n",
        "\n",
        "Q7: Using cross-validation\n",
        "\n",
        "Cross-validation splits the data into multiple parts and tests the model on each. This gives a more reliable estimate of performance than a single train-test split.\n",
        "\n",
        "Q8: Making predictions more interpretable\n",
        "\n",
        "Use SHAP or LIME to explain feature contributions.\n",
        "\n",
        "Show visualizations of how much each feature increases or decreases survival probability.\n",
        "This is especially useful for complex models like Random Forest or XGBoost.\n",
        "\n",
        "Q9: Ethical implications\n",
        "\n",
        "The data may reflect historical biases (e.g., women and higher-class passengers had more survival chances). A model trained on this data could reinforce those biases.\n",
        "Future work should:\n",
        "\n",
        "Be transparent about bias.\n",
        "\n",
        "Test fairness across groups (gender, class, age).\n",
        "\n",
        "Q10: Complete plan for future work\n",
        "\n",
        "Improve feature engineering (titles, family groups, deck info).\n",
        "\n",
        "Handle missing data more intelligently.\n",
        "\n",
        "Try advanced models like Random Forest or Gradient Boosting.\n",
        "\n",
        "Use cross-validation for stronger evaluation.\n",
        "\n",
        "Apply interpretability tools (SHAP/LIME).\n",
        "\n",
        "Investigate and reduce bias for fairer predictions."
      ],
      "metadata": {
        "id": "_VvgaGH1ELtn"
      }
    },
    {
      "cell_type": "markdown",
      "source": [
        "# Step: Data Visualization"
      ],
      "metadata": {
        "id": "JRMDr4Yex6CA"
      }
    },
    {
      "cell_type": "code",
      "source": [
        "# Visualize the distribution of 'Survived'\n",
        "sns.countplot(x='Survived', data=data)\n",
        "plt.title('Distribution of Survival (0 = Not Survived, 1 = Survived)')\n",
        "plt.show()\n"
      ],
      "metadata": {
        "colab": {
          "base_uri": "https://localhost:8080/",
          "height": 472
        },
        "id": "kcLB5hyayECF",
        "outputId": "f014e1e7-869e-4261-b0f6-7fd04423f277"
      },
      "execution_count": 14,
      "outputs": [
        {
          "output_type": "display_data",
          "data": {
            "text/plain": [
              "<Figure size 640x480 with 1 Axes>"
            ],
            "image/png": "[encoded data removed]"
          },
          "metadata": {}
        }
      ]
    },
    {
      "cell_type": "code",
      "source": [
        "# Visualize the distribution of 'Pclass' vs 'Survived'\n",
        "sns.barplot(x='Pclass', y='Survived', data=data)\n",
        "plt.title('Survival Rate by Pclass')\n",
        "plt.show()\n"
      ],
      "metadata": {
        "colab": {
          "base_uri": "https://localhost:8080/",
          "height": 472
        },
        "id": "iBAHbyszzQtJ",
        "outputId": "e134a1c0-e559-4905-a1c3-4e60da09a49c"
      },
      "execution_count": 15,
      "outputs": [
        {
          "output_type": "display_data",
          "data": {
            "text/plain": [
              "<Figure size 640x480 with 1 Axes>"
            ],
            "image/png": "[encoded data removed]"
          },
          "metadata": {}
        }
      ]
    },
    {
      "cell_type": "code",
      "source": [
        "# Visualize the distribution of 'Sex' vs 'Survived'\n",
        "sns.barplot(x='Sex', y='Survived', data=data)\n",
        "plt.title('Survival Rate by Sex')\n",
        "plt.show()"
      ],
      "metadata": {
        "colab": {
          "base_uri": "https://localhost:8080/",
          "height": 472
        },
        "id": "HKvmcMJzzXEQ",
        "outputId": "e4d12f79-375d-4e8d-f167-0da3584693fb"
      },
      "execution_count": 16,
      "outputs": [
        {
          "output_type": "display_data",
          "data": {
            "text/plain": [
              "<Figure size 640x480 with 1 Axes>"
            ],
            "image/png": "[encoded data removed]"
          },
          "metadata": {}
        }
      ]
    },
    {
      "cell_type": "code",
      "source": [
        "\n",
        "# Visualize the distribution of 'Embarked' vs 'Survived' (after one-hot encoding)\n",
        "# Need to check which Embarked columns exist after one-hot encoding\n",
        "embarked_cols = [col for col in data.columns if 'Embarked_' in col]\n",
        "if embarked_cols:\n",
        "    embarked_survival_rates = data[embarked_cols + ['Survived']].groupby('Survived').mean().T\n",
        "    embarked_survival_rates.plot(kind='bar', stacked=True)\n",
        "    plt.title('Survival Rate by Embarked Location')\n",
        "    plt.xlabel('Embarked Location')\n",
        "    plt.ylabel('Survival Rate')\n",
        "    plt.xticks(rotation=0)\n",
        "    plt.legend(['Not Survived', 'Survived'])\n",
        "    plt.show()\n",
        "else:\n",
        "    print(\"Embarked columns not found for visualization.\")"
      ],
      "metadata": {
        "colab": {
          "base_uri": "https://localhost:8080/"
        },
        "id": "B2D5N1btzZT4",
        "outputId": "27b56a17-a7ba-4211-88bf-133bc0dd169f"
      },
      "execution_count": 17,
      "outputs": [
        {
          "output_type": "stream",
          "name": "stdout",
          "text": [
            "Embarked columns not found for visualization.\n"
          ]
        }
      ]
    },
    {
      "cell_type": "code",
      "source": [
        "# Visualize the distribution of 'Age'\n",
        "sns.histplot(data['Age'], kde=True)\n",
        "plt.title('Distribution of Age')\n",
        "plt.show()\n"
      ],
      "metadata": {
        "colab": {
          "base_uri": "https://localhost:8080/",
          "height": 472
        },
        "id": "C1O8yeOYztjb",
        "outputId": "2c9fa309-0509-4c4b-82f8-1a84a763e84e"
      },
      "execution_count": 18,
      "outputs": [
        {
          "output_type": "display_data",
          "data": {
            "text/plain": [
              "<Figure size 640x480 with 1 Axes>"
            ],
            "image/png": "[encoded data removed]"
          },
          "metadata": {}
        }
      ]
    },
    {
      "cell_type": "code",
      "source": [
        "# Visualize the distribution of 'Fare'\n",
        "sns.histplot(data['Fare'], kde=True)\n",
        "plt.title('Distribution of Fare')\n",
        "plt.show()"
      ],
      "metadata": {
        "colab": {
          "base_uri": "https://localhost:8080/",
          "height": 472
        },
        "id": "mqEa6D5mzznR",
        "outputId": "479edeb6-d553-4eb3-d5d1-ad2c0d3a1649"
      },
      "execution_count": 19,
      "outputs": [
        {
          "output_type": "display_data",
          "data": {
            "text/plain": [
              "<Figure size 640x480 with 1 Axes>"
            ],
            "image/png": "[encoded data removed]"
          },
          "metadata": {}
        }
      ]
    },
    {
      "cell_type": "code",
      "source": [
        "# Visualize the distribution of 'SibSp'\n",
        "sns.histplot(data['SibSp'], kde=True)\n",
        "plt.title('Distribution of SibSp (Siblings/Spouses Aboard)')\n",
        "plt.show()\n"
      ],
      "metadata": {
        "colab": {
          "base_uri": "https://localhost:8080/",
          "height": 472
        },
        "id": "OIhuLzUjz5Or",
        "outputId": "4e478e28-b7f8-4791-d0ba-60711c9f6042"
      },
      "execution_count": 20,
      "outputs": [
        {
          "output_type": "display_data",
          "data": {
            "text/plain": [
              "<Figure size 640x480 with 1 Axes>"
            ],
            "image/png": "[encoded data removed]"
          },
          "metadata": {}
        }
      ]
    },
    {
      "cell_type": "code",
      "source": [
        "# Visualize the distribution of 'Parch'\n",
        "sns.histplot(data['Parch'], kde=True)\n",
        "plt.title('Distribution of Parch (Parents/Children Aboard)')\n",
        "plt.show()"
      ],
      "metadata": {
        "colab": {
          "base_uri": "https://localhost:8080/",
          "height": 472
        },
        "id": "CX7I-hU0z7WW",
        "outputId": "107937e9-35f9-492e-99ca-ab2289bad3e6"
      },
      "execution_count": 21,
      "outputs": [
        {
          "output_type": "display_data",
          "data": {
            "text/plain": [
              "<Figure size 640x480 with 1 Axes>"
            ],
            "image/png": "[encoded data removed]"
          },
          "metadata": {}
        }
      ]
    }
  ]
}