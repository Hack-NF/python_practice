{
  "nbformat": 4,
  "nbformat_minor": 0,
  "metadata": {
    "colab": {
      "provenance": [],
      "authorship_tag": "ABX9TyM70GjVvObXdKu+kOuwUt73",
      "include_colab_link": true
    },
    "kernelspec": {
      "name": "python3",
      "display_name": "Python 3"
    },
    "language_info": {
      "name": "python"
    }
  },
  "cells": [
    {
      "cell_type": "markdown",
      "metadata": {
        "id": "view-in-github",
        "colab_type": "text"
      },
      "source": [
        "<a href=\"https://colab.research.google.com/github/Hack-NF/python_practice/blob/main/Untitled4.ipynb\" target=\"_parent\"><img src=\"https://colab.research.google.com/assets/colab-badge.svg\" alt=\"Open In Colab\"/></a>"
      ]
    },
    {
      "cell_type": "code",
      "execution_count": 1,
      "metadata": {
        "colab": {
          "base_uri": "https://localhost:8080/",
          "height": 1000
        },
        "id": "cQQQi8eJhNuN",
        "outputId": "563792b3-8817-4862-c5b2-82b50a308d83"
      },
      "outputs": [
        {
          "output_type": "stream",
          "name": "stdout",
          "text": [
            "Sample Data:\n",
            "    PassengerId  Survived  Pclass  \\\n",
            "0            1         0       3   \n",
            "1            2         1       1   \n",
            "2            3         1       3   \n",
            "3            4         1       1   \n",
            "4            5         0       3   \n",
            "\n",
            "                                                Name     Sex   Age  SibSp  \\\n",
            "0                            Braund, Mr. Owen Harris    male  22.0      1   \n",
            "1  Cumings, Mrs. John Bradley (Florence Briggs Th...  female  38.0      1   \n",
            "2                             Heikkinen, Miss. Laina  female  26.0      0   \n",
            "3       Futrelle, Mrs. Jacques Heath (Lily May Peel)  female  35.0      1   \n",
            "4                           Allen, Mr. William Henry    male  35.0      0   \n",
            "\n",
            "   Parch            Ticket     Fare Cabin Embarked  \n",
            "0      0         A/5 21171   7.2500   NaN        S  \n",
            "1      0          PC 17599  71.2833   C85        C  \n",
            "2      0  STON/O2. 3101282   7.9250   NaN        S  \n",
            "3      0            113803  53.1000  C123        S  \n",
            "4      0            373450   8.0500   NaN        S  \n",
            "\n",
            "Average Age of Survivors (1) vs Non-Survivors (0):\n",
            " Survived\n",
            "0    30.626179\n",
            "1    28.343690\n",
            "Name: Age, dtype: float64\n",
            "\n",
            "Survival Rate by Passenger Class (%):\n",
            " Pclass\n",
            "1    62.962963\n",
            "2    47.282609\n",
            "3    24.236253\n",
            "Name: Survived, dtype: float64\n"
          ]
        },
        {
          "output_type": "display_data",
          "data": {
            "text/plain": [
              "<Figure size 640x480 with 1 Axes>"
            ],
            "image/png": "[encoded data removed]"
          },
          "metadata": {}
        },
        {
          "output_type": "stream",
          "name": "stdout",
          "text": [
            "\n",
            "🔹 Insights:\n",
            "1. Females had a much higher survival rate than males.\n",
            "2. First-class passengers survived more than second and third class.\n",
            "3. Average age of survivors was slightly different than non-survivors.\n"
          ]
        }
      ],
      "source": [
        "# Day 1 Assignment - Titanic Dataset\n",
        "# AI/ML Foundations & Python for Data Science Bootcamp\n",
        "\n",
        "# Step 1: Import libraries\n",
        "import pandas as pd\n",
        "import numpy as np\n",
        "import matplotlib.pyplot as plt\n",
        "\n",
        "# Step 2: Load Titanic dataset\n",
        "url = \"https://raw.githubusercontent.com/datasciencedojo/datasets/master/titanic.csv\"\n",
        "df = pd.read_csv(url)\n",
        "\n",
        "# Show first 5 rows\n",
        "print(\"Sample Data:\\n\", df.head())\n",
        "\n",
        "# Step 3: Average age of survivors vs non-survivors\n",
        "avg_age = df.groupby(\"Survived\")[\"Age\"].mean()\n",
        "print(\"\\nAverage Age of Survivors (1) vs Non-Survivors (0):\\n\", avg_age)\n",
        "\n",
        "# Step 4: Survival rate by passenger class\n",
        "survival_rate_class = df.groupby(\"Pclass\")[\"Survived\"].mean() * 100\n",
        "print(\"\\nSurvival Rate by Passenger Class (%):\\n\", survival_rate_class)\n",
        "\n",
        "# Step 5: Bar chart for gender survival\n",
        "survival_by_gender = df.groupby(\"Sex\")[\"Survived\"].mean() * 100\n",
        "survival_by_gender.plot(kind=\"bar\", color=[\"blue\", \"pink\"])\n",
        "plt.title(\"Survival Rate by Gender\")\n",
        "plt.ylabel(\"Survival Rate (%)\")\n",
        "plt.show()\n",
        "\n",
        "# Step 6: Insights\n",
        "print(\"\\n🔹 Insights:\")\n",
        "print(\"1. Females had a much higher survival rate than males.\")\n",
        "print(\"2. First-class passengers survived more than second and third class.\")\n",
        "print(\"3. Average age of survivors was slightly different than non-survivors.\")\n"
      ]
    }
  ]
}